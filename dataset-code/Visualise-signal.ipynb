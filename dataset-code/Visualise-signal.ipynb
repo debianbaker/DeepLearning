{
 "cells": [
  {
   "cell_type": "code",
   "execution_count": null,
   "id": "7051c976",
   "metadata": {},
   "outputs": [],
   "source": [
    "# Visualising EMG-Raw and PreProcessed Signal for 8 channels of emg_data[0]\n",
    "\n",
    "import matplotlib.pyplot as plt\n",
    "\n",
    "def plot_emg_signals(raw_emg, preprocessed_emg, title_prefix=\"EMG Channel\"):\n",
    "    channels = raw_emg.shape[0]\n",
    "    time_points = raw_emg.shape[1]\n",
    "    time = np.arange(time_points)\n",
    "\n",
    "    fig, axs = plt.subplots(channels, 2, figsize=(12, 2 * channels), sharex=True)\n",
    "\n",
    "    for i in range(channels):\n",
    "        axs[i, 0].plot(time, raw_emg[i])\n",
    "        axs[i, 0].set_title(f\"{title_prefix} {i+1} - Raw\")\n",
    "\n",
    "        axs[i, 1].plot(time, preprocessed_emg[i])\n",
    "        axs[i, 1].set_title(f\"{title_prefix} {i+1} - Preprocessed\")\n",
    "\n",
    "    plt.tight_layout()\n",
    "    plt.show()\n",
    "\n",
    "plot_emg_signals(sample_emg, preprocessed_emg)\n"
   ]
  }
 ],
 "metadata": {
  "kernelspec": {
   "display_name": "Python 3",
   "language": "python",
   "name": "python3"
  },
  "language_info": {
   "name": "python",
   "version": "3.10.12"
  }
 },
 "nbformat": 4,
 "nbformat_minor": 5
}
