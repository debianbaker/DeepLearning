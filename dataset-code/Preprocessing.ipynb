{
 "cells": [
  {
   "cell_type": "code",
   "execution_count": null,
   "id": "121427cf",
   "metadata": {},
   "outputs": [],
   "source": [
    "import numpy as np\n",
    "from scipy import signal\n",
    "\n",
    "# Preprocess EMG: Bandpass filtering (20-450 Hz), and normalization (min-max)\n",
    "def preprocess_emg(emg_data, sampling_rate):\n",
    "    \"\"\"\n",
    "    emg_data shape: (8, N) where 8 = number of channels, N = time points\n",
    "    \"\"\"\n",
    "    # Bandpass filter between 20-450 Hz\n",
    "    lowcut = 20.0\n",
    "    highcut = 450.0\n",
    "    nyquist = 0.5 * sampling_rate\n",
    "    low = lowcut / nyquist\n",
    "    high = highcut / nyquist\n",
    "    b, a = signal.butter(4, [low, high], btype='band')\n",
    "\n",
    "    # Transpose to (N, 8) for filtering along axis=0 (time axis)\n",
    "    emg_data_t = emg_data.T  # shape becomes (N, 8)\n",
    "    filtered_emg = signal.filtfilt(b, a, emg_data_t, axis=0)\n",
    "\n",
    "    # Normalize the data (min-max normalization)\n",
    "    normalized_emg = (filtered_emg - np.min(filtered_emg, axis=0)) / (np.max(filtered_emg, axis=0) - np.min(filtered_emg, axis=0) + 1e-8)\n",
    "\n",
    "    return normalized_emg.T  # Return shape back to (8, N)\n",
    "\n",
    "# Test with simulated data: 8 channels, 992 time points\n",
    "sample_emg = np.array(emg_data[0])\n",
    "sampling_rate=len(sample_emg[0])\n",
    "print(sampling_rate, sample_emg[:, :5])\n",
    "preprocessed_emg = preprocess_emg(sample_emg, sampling_rate)\n",
    "\n",
    "# Print results\n",
    "print(\"Preprocessed shape:\", preprocessed_emg.shape)\n",
    "print(preprocessed_emg)  # Print first 5 timepoints per channel\n"
   ]
  }
 ],
 "metadata": {
  "kernelspec": {
   "display_name": "Python 3",
   "language": "python",
   "name": "python3"
  },
  "language_info": {
   "name": "python",
   "version": "3.10.12"
  }
 },
 "nbformat": 4,
 "nbformat_minor": 5
}
