{
 "cells": [
  {
   "cell_type": "code",
   "execution_count": null,
   "id": "2ddee68c",
   "metadata": {},
   "outputs": [],
   "source": [
    "import os\n",
    "import json\n",
    "import numpy as np\n",
    "\n",
    "def load_custom_emg_data(dataset_path):\n",
    "    all_emg_data = []\n",
    "    labels = []\n",
    "\n",
    "    # Go through all JSON files in the dataset folder (flat or nested)\n",
    "    for main_folder in ['trainingJSON']:\n",
    "        folder_path = os.path.join(dataset_path, main_folder)\n",
    "\n",
    "        for user_folder in os.listdir(folder_path):\n",
    "            user_path = os.path.join(folder_path, user_folder)\n",
    "            if not os.path.isdir(user_path):\n",
    "                continue\n",
    "\n",
    "            # Search for the JSON file inside each user folder\n",
    "            for file in os.listdir(user_path):\n",
    "                if file.endswith('.json'):\n",
    "                    json_path = os.path.join(user_path, file)\n",
    "                    with open(json_path, 'r') as f:\n",
    "                        data = json.load(f)\n",
    "\n",
    "                    # trainingSamples is a dict of idx_1, idx_2, ...\n",
    "                    samples = data.get(\"trainingSamples\", {})\n",
    "                    for sample in samples.values():\n",
    "                        gesture_name = sample.get(\"gestureName\", \"unknown\")\n",
    "                        emg = sample.get(\"emg\", {})\n",
    "\n",
    "                        # Convert 8 channels into 8 x 992 numpy array\n",
    "                        ch_values = [emg.get(f\"ch{i+1}\", []) for i in range(8)]\n",
    "                        if all(len(ch) == len(ch_values[0]) for ch in ch_values):  # sanity check\n",
    "                            emg_matrix = np.array(ch_values)  # shape: (8, 992)\n",
    "                            all_emg_data.append(emg_matrix)\n",
    "                            labels.append(gesture_name)\n",
    "\n",
    "    return all_emg_data, labels\n",
    "\n",
    "dataset_path = '/home/codebaker/Desktop/EMG-EPN612 Dataset'\n",
    "emg_data, gesture_labels = load_custom_emg_data(dataset_path)\n",
    "\n",
    "print(f\"Loaded {len(emg_data)} gestures\")\n",
    "print(f\"Unique gestures: {set(gesture_labels)}\")\n",
    "\n",
    "if emg_data:\n",
    "    print(f\"Sample shape: {emg_data[0].shape}\")\n"
   ]
  }
 ],
 "metadata": {
  "kernelspec": {
   "display_name": "Python 3",
   "language": "python",
   "name": "python3"
  },
  "language_info": {
   "name": "python",
   "version": "3.10.12"
  }
 },
 "nbformat": 4,
 "nbformat_minor": 5
}
