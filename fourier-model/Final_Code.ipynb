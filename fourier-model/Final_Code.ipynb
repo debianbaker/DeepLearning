{
 "cells": [
  {
   "cell_type": "markdown",
   "id": "26157c69",
   "metadata": {},
   "source": [
    "# FOR 100 USERS\n",
    "- For 50 users the accuracy is same for both models"
   ]
  },
  {
   "cell_type": "code",
   "execution_count": null,
   "id": "fb25fbbb",
   "metadata": {},
   "outputs": [],
   "source": [
    "import numpy as np\n",
    "from scipy import signal\n",
    "\n",
    "def resample_emg(single_emg, target_length=1000):\n",
    "    \"\"\"\n",
    "    Resamples EMG signal to a fixed number of time points (target_length).\n",
    "    Assumes input shape is (8, N), returns shape (8, target_length).\n",
    "    \"\"\"\n",
    "    # Get the current length along axis 1\n",
    "    current_length = single_emg.shape[1]\n",
    "    \n",
    "    # Resample with proper up/down parameters\n",
    "    return signal.resample_poly(single_emg, target_length, current_length, axis=1)\n"
   ]
  },
  {
   "cell_type": "code",
   "execution_count": null,
   "id": "421ce119",
   "metadata": {},
   "outputs": [],
   "source": [
    "import os\n",
    "import json\n",
    "import numpy as np\n",
    "\n",
    "def load_custom_emg_data(dataset_path, max_users=100):\n",
    "    all_emg_data = []\n",
    "    labels = []\n",
    "\n",
    "    for main_folder in ['trainingJSON']:\n",
    "        folder_path = os.path.join(dataset_path, main_folder)\n",
    "\n",
    "        user_folders = [f for f in os.listdir(folder_path) if os.path.isdir(os.path.join(folder_path, f))]\n",
    "        user_folders = user_folders[:max_users]  # Limit to the first `max_users` folders\n",
    "\n",
    "        for user_folder in user_folders:\n",
    "            user_path = os.path.join(folder_path, user_folder)\n",
    "\n",
    "            for file in os.listdir(user_path):\n",
    "                if file.endswith('.json'):\n",
    "                    json_path = os.path.join(user_path, file)\n",
    "                    with open(json_path, 'r') as f:\n",
    "                        data = json.load(f)\n",
    "\n",
    "                    samples = data.get(\"trainingSamples\", {})\n",
    "                    if(len(samples) == 150):\n",
    "                        for sample in samples.values():\n",
    "                            gesture_name = sample.get(\"gestureName\", \"unknown\")\n",
    "                            emg = sample.get(\"emg\", {})\n",
    "    \n",
    "                            ch_values = [emg.get(f\"ch{i+1}\", []) for i in range(8)]\n",
    "                            if all(len(ch) == len(ch_values[0]) for ch in ch_values):  # sanity check\n",
    "                                if len(ch_values[0]) >= 900:  # assuming your nyquist constraint\n",
    "                                    emg_matrix = np.array(ch_values)\n",
    "                                    resampled_matrix = resample_emg(emg_matrix)\n",
    "                                    all_emg_data.append(resampled_matrix)\n",
    "                                    labels.append(gesture_name)\n",
    "\n",
    "    return all_emg_data, labels\n",
    "\n",
    "# Example usage:\n",
    "dataset_path = '/kaggle/input/emg-dataset/EMG-EPN612 Dataset'\n",
    "emg_data, gesture_labels = load_custom_emg_data(dataset_path, max_users=100)\n",
    "\n",
    "print(f\"Loaded {len(emg_data)} gestures\")\n",
    "print(f\"Unique gestures: {set(gesture_labels)}\")\n",
    "\n",
    "if emg_data:\n",
    "    print(f\"Sample shape: {emg_data[0].shape}\")\n"
   ]
  },
  {
   "cell_type": "code",
   "execution_count": null,
   "id": "7d3988e8",
   "metadata": {},
   "outputs": [],
   "source": [
    "gesture_to_id = {\n",
    "    \"noGesture\": 0,       # Example: fist = 0\n",
    "    \"fist\": 1,       # open = 1\n",
    "    \"open\": 2,      # pinch = 2\n",
    "    \"waveIn\": 3,    # wave_in = 3\n",
    "    \"pinch\": 4,   # wave_out = 4\n",
    "    \"waveOut\": 5  # no_gesture = 5\n",
    "}\n",
    "# Convert gesture names to numerical IDs\n",
    "label_ids = [gesture_to_id[name] for name in gesture_labels]\n",
    "\n",
    "# Verify\n",
    "print(\"First 150 labels:\", label_ids[:150])"
   ]
  },
  {
   "cell_type": "code",
   "execution_count": null,
   "id": "43c93890",
   "metadata": {},
   "outputs": [
    {
     "name": "stdout",
     "output_type": "stream",
     "text": [
      "Preprocessed data shape: (7500, 8, 1000)\n"
     ]
    }
   ],
   "source": [
    "import numpy as np\n",
    "from scipy import signal\n",
    "\n",
    "def preprocess_emg(single_np_emg, sampling_rate):\n",
    "    \"\"\"\n",
    "    Input: (8, N) - 8 channels, N time points\n",
    "    Output: (8, N) - preprocessed EMG\n",
    "    \"\"\"\n",
    "    # Bandpass filter (20-450 Hz, 4th order Butterworth)\n",
    "    lowcut, highcut = 20.0, 450.0\n",
    "    nyquist = 0.5 * sampling_rate\n",
    "    b, a = signal.butter(4, [lowcut/nyquist, highcut/nyquist], btype='band')\n",
    "    \n",
    "    # Transpose to (N, 8) for filtering\n",
    "    emg_data_t = single_np_emg.T  # (N, 8)\n",
    "    filtered_emg = signal.filtfilt(b, a, emg_data_t, axis=0)\n",
    "    \n",
    "    # Z-score normalization per channel\n",
    "    normalized_emg = (filtered_emg - np.mean(filtered_emg, axis=0)) / (np.std(filtered_emg, axis=0) + 1e-8)\n",
    "    \n",
    "    return normalized_emg.T  # (8, N)\n",
    "\n",
    "def preprocess_all_emg_data(emg_data, sampling_rate=1000):\n",
    "    \"\"\"\n",
    "    Input: (num_samples, 8, N)\n",
    "    Output: (num_samples, 8, N)\n",
    "    \"\"\"\n",
    "    return np.array([preprocess_emg(sample, sampling_rate) for sample in emg_data])\n",
    "\n",
    "# Usage\n",
    "preprocessed_emg = preprocess_all_emg_data(emg_data)\n",
    "print(\"Preprocessed data shape:\", preprocessed_emg.shape)"
   ]
  },
  {
   "cell_type": "code",
   "execution_count": 10,
   "id": "f4ba90c9",
   "metadata": {},
   "outputs": [
    {
     "name": "stdout",
     "output_type": "stream",
     "text": [
      "Mean: -2.335169095128246e-20\n",
      "Std: 0.9999999973459965\n"
     ]
    }
   ],
   "source": [
    "print(\"Mean:\", preprocessed_emg.mean())  # Should be ≈0 (normalized)\n",
    "print(\"Std:\", preprocessed_emg.std())   # Should be ≈1 if z-scored"
   ]
  },
  {
   "cell_type": "code",
   "execution_count": 11,
   "id": "138fea1e",
   "metadata": {},
   "outputs": [
    {
     "data": {
      "image/png": "[encoded data removed]",
      "text/plain": [
       "<Figure size 432x288 with 1 Axes>"
      ]
     },
     "metadata": {
      "needs_background": "light"
     },
     "output_type": "display_data"
    },
    {
     "name": "stdout",
     "output_type": "stream",
     "text": [
      "Percentage of outliers (>3σ): 0.00%\n"
     ]
    }
   ],
   "source": [
    "preprocessed_emg = np.clip(preprocessed_emg, -3, 3)\n",
    "import matplotlib.pyplot as plt\n",
    "plt.hist(preprocessed_emg.flatten(), bins=50)\n",
    "plt.title(\"Distribution of Preprocessed EMG\")\n",
    "plt.xlabel(\"Amplitude (Z-score)\"); plt.ylabel(\"Frequency\")\n",
    "plt.show()\n",
    "\n",
    "outliers = np.sum(np.abs(preprocessed_emg) > 3) / preprocessed_emg.size * 100\n",
    "print(f\"Percentage of outliers (>3σ): {outliers:.2f}%\")"
   ]
  },
  {
   "cell_type": "code",
   "execution_count": null,
   "id": "8e5d9585",
   "metadata": {},
   "outputs": [
    {
     "name": "stdout",
     "output_type": "stream",
     "text": [
      "STFT Magnitude shape: (7500, 8, 257, 17)\n",
      "Frequencies shape: (257,)\n",
      "Time bins shape: (17,)\n"
     ]
    }
   ],
   "source": [
    "import numpy as np\n",
    "from scipy.signal import stft\n",
    "\n",
    "# Input: preprocessed_emg shape (7500, 8, 1000)\n",
    "n_samples, n_channels, n_points = preprocessed_emg.shape\n",
    "sampling_rate = 1000  # Hz\n",
    "\n",
    "# STFT parameters (adjust based on your needs)\n",
    "nperseg = 256       # Window length (256 ms)\n",
    "noverlap = 192      # Overlap (75%)\n",
    "nfft = 512          # FFT size (zero-padding for better frequency resolution)\n",
    "\n",
    "# Compute STFT for one example to get the output shape\n",
    "f, t, Zxx = stft(\n",
    "    preprocessed_emg[0, 0, :],\n",
    "    fs=sampling_rate,\n",
    "    window='hann',\n",
    "    nperseg=nperseg,\n",
    "    noverlap=noverlap,\n",
    "    nfft=nfft,\n",
    "    return_onesided=True\n",
    ")\n",
    "\n",
    "# Initialize output arrays using the actual dimensions from the test run\n",
    "frequencies = f\n",
    "time_bins = t\n",
    "n_freq_bins = f.shape[0]\n",
    "n_time_bins = t.shape[0]\n",
    "stft_magnitude = np.zeros((n_samples, n_channels, n_freq_bins, n_time_bins))\n",
    "\n",
    "# Compute STFT for all samples and channels\n",
    "for i in range(n_samples):\n",
    "    for j in range(n_channels):\n",
    "        _, _, Zxx = stft(\n",
    "            preprocessed_emg[i, j, :],\n",
    "            fs=sampling_rate,\n",
    "            window='hann',\n",
    "            nperseg=nperseg,\n",
    "            noverlap=noverlap,\n",
    "            nfft=nfft,\n",
    "            return_onesided=True\n",
    "        )\n",
    "        stft_magnitude[i, j] = np.abs(Zxx)  # Store magnitude\n",
    "\n",
    "# Verify shapes\n",
    "print(f\"STFT Magnitude shape: {stft_magnitude.shape}\")  # (7500, 8, 257, 17)\n",
    "print(f\"Frequencies shape: {frequencies.shape}\")        # (257,)\n",
    "print(f\"Time bins shape: {time_bins.shape}\")            # (17,)"
   ]
  },
  {
   "cell_type": "code",
   "execution_count": null,
   "id": "beec8eeb",
   "metadata": {},
   "outputs": [],
   "source": [
    "import numpy as np\n",
    "from numba import jit, prange\n",
    "\n",
    "@jit(nopython=True, parallel=True)\n",
    "def compute_band_powers(power_spectrum, frequencies, bands):\n",
    "    \"\"\"\n",
    "    Numba-compatible band power computation without np.mean(axis)\n",
    "    \"\"\"\n",
    "    n_samples, n_channels, n_freqs, n_times = power_spectrum.shape\n",
    "    n_bands = len(bands)\n",
    "    band_features = np.zeros((n_samples, n_channels, n_bands))\n",
    "    \n",
    "    for b in prange(n_bands):  # Parallel loop\n",
    "        low, high = bands[b]\n",
    "        count = 0\n",
    "        \n",
    "        for s in prange(n_samples):\n",
    "            for c in range(n_channels):\n",
    "                total = 0.0\n",
    "                freq_count = 0\n",
    "                \n",
    "                for f in range(n_freqs):\n",
    "                    if low <= frequencies[f] <= high:\n",
    "                        # Manual mean calculation over time axis\n",
    "                        time_sum = 0.0\n",
    "                        for t in range(n_times):\n",
    "                            time_sum += power_spectrum[s, c, f, t]\n",
    "                        total += time_sum / n_times\n",
    "                        freq_count += 1\n",
    "                \n",
    "                if freq_count > 0:\n",
    "                    band_features[s, c, b] = total / freq_count\n",
    "    \n",
    "    return band_features\n",
    "\n",
    "def extract_6class_emg_features_optimized(stft_magnitude, frequencies, fs=1000):\n",
    "    \"\"\"\n",
    "    Fully working version with all fixes applied\n",
    "    \"\"\"\n",
    "    n_samples, n_channels, n_freqs, n_times = stft_magnitude.shape\n",
    "\n",
    "    # 1. Power spectrum (vectorized)\n",
    "    power_spectrum = np.square(stft_magnitude)\n",
    "    total_power = np.sum(power_spectrum, axis=2)  # shape: (n_samples, n_channels, n_times)\n",
    "\n",
    "    # 2. Mean frequency (vectorized)\n",
    "    weighted_sum = np.sum(power_spectrum * frequencies[None, None, :, None], axis=2)\n",
    "    mean_freq = weighted_sum / (total_power + 1e-10)\n",
    "\n",
    "    # 3. Median frequency (fixed broadcasting)\n",
    "    cumsum = np.cumsum(power_spectrum, axis=2)  # shape: (n_samples, n_channels, n_freqs, n_times)\n",
    "    half_power = 0.5 * total_power[:, :, None, :]  # shape: (n_samples, n_channels, 1, n_times)\n",
    "    \n",
    "    # Find median frequency indices\n",
    "    median_freq_idx = np.empty((n_samples, n_channels, n_times), dtype=np.int64)\n",
    "    for s in range(n_samples):\n",
    "        for c in range(n_channels):\n",
    "            for t in range(n_times):\n",
    "                median_freq_idx[s, c, t] = np.argmax(cumsum[s, c, :, t] >= half_power[s, c, 0, t])\n",
    "    \n",
    "    median_freq = frequencies[median_freq_idx]\n",
    "\n",
    "    # 4. Spectral entropy (vectorized)\n",
    "    prob = power_spectrum / (total_power[:, :, None, :] + 1e-10)\n",
    "    entropy = -np.sum(prob * np.log2(prob + 1e-10), axis=2)\n",
    "\n",
    "    # 5. Band powers (using fixed computation)\n",
    "    bands = [(20, 50), (50, 100), (100, 150), (150, 250), (250, 350), (350, 500)]\n",
    "    band_powers = compute_band_powers(power_spectrum, frequencies, bands)\n",
    "\n",
    "    # 6. Time aggregation\n",
    "    features = np.stack([mean_freq, median_freq, total_power, entropy], axis=-1)\n",
    "    features_mean = np.mean(features, axis=2)\n",
    "    features_std = np.std(features, axis=2)\n",
    "\n",
    "    # 7. Channel correlations (vectorized)\n",
    "    stft_db = 20 * np.log10(stft_magnitude + 1e-10)\n",
    "    stft_flat = stft_db.reshape(n_samples, n_channels, -1)\n",
    "    corr_features = np.zeros((n_samples, n_channels * (n_channels - 1) // 2))\n",
    "    \n",
    "    for s in range(n_samples):\n",
    "        corr_matrix = np.corrcoef(stft_flat[s])\n",
    "        corr_features[s] = corr_matrix[np.triu_indices(n_channels, k=1)]\n",
    "\n",
    "    # 8. Final feature matrix\n",
    "    X = np.hstack([\n",
    "        features_mean.reshape(n_samples, -1),\n",
    "        features_std.reshape(n_samples, -1),\n",
    "        band_powers.reshape(n_samples, -1),\n",
    "        corr_features\n",
    "    ])\n",
    "\n",
    "    return X"
   ]
  },
  {
   "cell_type": "code",
   "execution_count": null,
   "id": "dd173653",
   "metadata": {},
   "outputs": [],
   "source": [
    "stft_magnitude = np.load(\"./variables/stft_magnitude.npy\")\n",
    "frequencies = np.load(\"./variables/frequencies.npy\")\n",
    "\n",
    "features = extract_6class_emg_features_optimized(stft_magnitude, frequencies, fs=1000)"
   ]
  },
  {
   "cell_type": "code",
   "execution_count": null,
   "id": "c08c7a29",
   "metadata": {},
   "outputs": [],
   "source": [
    "features.shape"
   ]
  },
  {
   "cell_type": "code",
   "execution_count": null,
   "id": "b69a4882",
   "metadata": {},
   "outputs": [],
   "source": [
    "y = label_ids"
   ]
  },
  {
   "cell_type": "markdown",
   "id": "40d1496d",
   "metadata": {},
   "source": [
    "# MODEL 1 - 89% Accuracy - RF Model"
   ]
  },
  {
   "cell_type": "code",
   "execution_count": null,
   "id": "0731ab41",
   "metadata": {},
   "outputs": [],
   "source": [
    "from sklearn.model_selection import train_test_split\n",
    "\n",
    "X_train, X_test, y_train, y_test = train_test_split(\n",
    "    features,  # or X_reduced if using feature selection\n",
    "    y,\n",
    "    test_size=0.2,\n",
    "    random_state=42\n",
    ")"
   ]
  },
  {
   "cell_type": "code",
   "execution_count": null,
   "id": "5d27a167",
   "metadata": {},
   "outputs": [],
   "source": [
    "from sklearn.ensemble import RandomForestClassifier\n",
    "\n",
    "clf = RandomForestClassifier(n_estimators=100, random_state=42)\n",
    "clf.fit(X_train, y_train)\n",
    "print(\"Test accuracy:\", clf.score(X_test, y_test))"
   ]
  },
  {
   "cell_type": "code",
   "execution_count": null,
   "id": "30d7a333",
   "metadata": {},
   "outputs": [],
   "source": [
    "from sklearn.metrics import classification_report, confusion_matrix\n",
    "\n",
    "y_pred = clf.predict(X_test)\n",
    "print(classification_report(y_test, y_pred))\n",
    "print(\"Confusion Matrix:\\n\", confusion_matrix(y_test, y_pred))"
   ]
  },
  {
   "cell_type": "markdown",
   "id": "8834918e",
   "metadata": {},
   "source": [
    "# MODEL 2 - 92.01% Accuracy (1D CNN)"
   ]
  },
  {
   "cell_type": "code",
   "execution_count": null,
   "id": "7383b614",
   "metadata": {},
   "outputs": [],
   "source": [
    "import numpy as np\n",
    "from sklearn.model_selection import train_test_split\n",
    "from tensorflow.keras.utils import to_categorical\n",
    "\n",
    "# Reshape features to (samples, timesteps, channels)\n",
    "X_reshaped = features.reshape(-1, 140, 1)  # Treat each feature as a timestep\n",
    "\n",
    "# Convert labels to one-hot encoding\n",
    "y_onehot = to_categorical(y)  # Assuming y contains class indices 0-5\n",
    "\n",
    "# Train-test split\n",
    "X_train, X_test, y_train, y_test = train_test_split(\n",
    "    X_reshaped, y_onehot, \n",
    "    test_size=0.2, \n",
    "    random_state=42,\n",
    "    stratify=y\n",
    ")"
   ]
  },
  {
   "cell_type": "code",
   "execution_count": null,
   "id": "f217852a",
   "metadata": {},
   "outputs": [],
   "source": [
    "from sklearn.preprocessing import StandardScaler\n",
    "\n",
    "# Flatten, scale, then reshape back\n",
    "scaler = StandardScaler()\n",
    "X_train_scaled = scaler.fit_transform(X_train.reshape(-1, 140)).reshape(-1, 140, 1)\n",
    "X_test_scaled = scaler.transform(X_test.reshape(-1, 140)).reshape(-1, 140, 1)"
   ]
  },
  {
   "cell_type": "code",
   "execution_count": null,
   "id": "fabd4a5b",
   "metadata": {},
   "outputs": [],
   "source": [
    "from tensorflow.keras.models import Sequential\n",
    "from tensorflow.keras.layers import (\n",
    "    Conv1D, MaxPooling1D,\n",
    "    BatchNormalization,\n",
    "    Dropout,\n",
    "    Flatten,\n",
    "    Dense\n",
    ")\n",
    "from tensorflow.keras.optimizers import Adam\n",
    "from tensorflow.keras.callbacks import EarlyStopping, ReduceLROnPlateau\n",
    "\n",
    "model = Sequential([\n",
    "    # Feature extraction block\n",
    "    Conv1D(64, kernel_size=5, activation='relu', input_shape=(140, 1)),\n",
    "    BatchNormalization(),\n",
    "    MaxPooling1D(pool_size=2),\n",
    "    Dropout(0.3),\n",
    "    \n",
    "    # Second convolution block\n",
    "    Conv1D(128, kernel_size=3, activation='relu'),\n",
    "    BatchNormalization(),\n",
    "    MaxPooling1D(pool_size=2),\n",
    "    Dropout(0.4),\n",
    "    \n",
    "    # Classifier\n",
    "    Flatten(),\n",
    "    Dense(128, activation='relu'),\n",
    "    Dropout(0.5),\n",
    "    Dense(6, activation='softmax')  # 6 gesture classes\n",
    "])\n",
    "\n",
    "# Compile with custom learning rate\n",
    "model.compile(\n",
    "    optimizer=Adam(learning_rate=0.0005),\n",
    "    loss='categorical_crossentropy',\n",
    "    metrics=['accuracy']\n",
    ")\n",
    "\n",
    "# Callbacks\n",
    "callbacks = [\n",
    "    EarlyStopping(patience=15, restore_best_weights=True),\n",
    "    ReduceLROnPlateau(factor=0.5, patience=5)\n",
    "]"
   ]
  },
  {
   "cell_type": "code",
   "execution_count": null,
   "id": "abaeefe6",
   "metadata": {},
   "outputs": [],
   "source": [
    "history = model.fit(\n",
    "    X_train_scaled, y_train,\n",
    "    validation_data=(X_test_scaled, y_test),\n",
    "    epochs=100,\n",
    "    batch_size=64,\n",
    "    callbacks=callbacks,\n",
    "    verbose=1\n",
    ")\n",
    "\n",
    "# Evaluate\n",
    "test_loss, test_acc = model.evaluate(X_test_scaled, y_test, verbose=0)\n",
    "print(f\"\\nTest Accuracy: {test_acc:.4f}\")"
   ]
  },
  {
   "cell_type": "code",
   "execution_count": null,
   "id": "d3711d26",
   "metadata": {},
   "outputs": [],
   "source": [
    "from sklearn.metrics import confusion_matrix, ConfusionMatrixDisplay\n",
    "import matplotlib.pyplot as plt\n",
    "\n",
    "# Get predictions (convert from one-hot to class indices)\n",
    "y_pred = model.predict(X_test_scaled).argmax(axis=1)\n",
    "y_true = y_test.argmax(axis=1)\n",
    "\n",
    "# Generate and plot confusion matrix\n",
    "cm = confusion_matrix(y_true, y_pred)\n",
    "disp = ConfusionMatrixDisplay(confusion_matrix=cm, \n",
    "                            display_labels=[\"noGesture\", \"fist\", \"open\", \"waveIn\", \"pinch\", \"waveOut\"])\n",
    "disp.plot(cmap='Blues', xticks_rotation=45)\n",
    "plt.title('EMG Gesture Confusion Matrix')\n",
    "plt.tight_layout()\n",
    "plt.show()"
   ]
  }
 ],
 "metadata": {
  "kernelspec": {
   "display_name": "Python 3",
   "language": "python",
   "name": "python3"
  },
  "language_info": {
   "codemirror_mode": {
    "name": "ipython",
    "version": 3
   },
   "file_extension": ".py",
   "mimetype": "text/x-python",
   "name": "python",
   "nbconvert_exporter": "python",
   "pygments_lexer": "ipython3",
   "version": "3.10.12"
  }
 },
 "nbformat": 4,
 "nbformat_minor": 5
}
